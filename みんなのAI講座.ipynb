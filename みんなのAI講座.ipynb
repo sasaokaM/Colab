{
  "nbformat": 4,
  "nbformat_minor": 0,
  "metadata": {
    "colab": {
      "provenance": [],
      "toc_visible": true,
      "authorship_tag": "ABX9TyMlnALCPtnjunf3oFOplx5T",
      "include_colab_link": true
    },
    "kernelspec": {
      "name": "python3",
      "display_name": "Python 3"
    },
    "language_info": {
      "name": "python"
    }
  },
  "cells": [
    {
      "cell_type": "markdown",
      "metadata": {
        "id": "view-in-github",
        "colab_type": "text"
      },
      "source": [
        "<a href=\"https://colab.research.google.com/github/sasaokaM/Colab/blob/main/%E3%81%BF%E3%82%93%E3%81%AA%E3%81%AEAI%E8%AC%9B%E5%BA%A7.ipynb\" target=\"_parent\"><img src=\"https://colab.research.google.com/assets/colab-badge.svg\" alt=\"Open In Colab\"/></a>"
      ]
    },
    {
      "cell_type": "markdown",
      "source": [
        "# 数学の学習\n",
        "\n"
      ],
      "metadata": {
        "id": "s4aIty5PhpYD"
      }
    },
    {
      "cell_type": "code",
      "source": [
        "#関数の描画\n",
        "import numpy as np\n",
        "import matplotlib.pyplot as plt\n",
        "\n"
      ],
      "metadata": {
        "id": "YQhGwGcThvU5"
      },
      "execution_count": null,
      "outputs": []
    }
  ]
}