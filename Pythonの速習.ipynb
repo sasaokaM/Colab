{
  "nbformat": 4,
  "nbformat_minor": 0,
  "metadata": {
    "colab": {
      "provenance": [],
      "authorship_tag": "ABX9TyPBWSSVT0WoL+GOKtWJ9u1/",
      "include_colab_link": true
    },
    "kernelspec": {
      "name": "python3",
      "display_name": "Python 3"
    },
    "language_info": {
      "name": "python"
    }
  },
  "cells": [
    {
      "cell_type": "markdown",
      "metadata": {
        "id": "view-in-github",
        "colab_type": "text"
      },
      "source": [
        "<a href=\"https://colab.research.google.com/github/sasaokaM/Colab/blob/main/Python%E3%81%AE%E9%80%9F%E7%BF%92.ipynb\" target=\"_parent\"><img src=\"https://colab.research.google.com/assets/colab-badge.svg\" alt=\"Open In Colab\"/></a>"
      ]
    },
    {
      "cell_type": "code",
      "source": [
        "import numpy as np\n",
        "\n",
        "#単回帰分析\n",
        "#ベクトルの定義\n",
        "x = np.array([1, 2, 3])\n",
        "y = np.array([2, 3.9, 6.1])\n",
        "\n",
        "#データの中心化\n",
        "#平均の算出\n",
        "x.mean()\n",
        "y.mean()\n",
        "\n",
        "#中心化\n",
        "xc = x - x.mean()\n",
        "yc = y - y.mean()\n",
        "\n",
        "#パラメータaの計算\n",
        "#要素ごとの掛け算(要素席)\n",
        "xx = xc * xc\n",
        "xy = xc * yc\n",
        "\n",
        "#足し算(シグマ部分)\n",
        "xx.sum()\n",
        "xy.sum()\n",
        "\n",
        "a = xy.sum() / xx.sum()"
      ],
      "metadata": {
        "colab": {
          "base_uri": "https://localhost:8080/"
        },
        "id": "8krkCxqRT-G_",
        "outputId": "669f84f4-349d-43d5-c3ac-2e0be59a87d1"
      },
      "execution_count": 21,
      "outputs": [
        {
          "output_type": "execute_result",
          "data": {
            "text/plain": [
              "np.float64(2.05)"
            ]
          },
          "metadata": {},
          "execution_count": 21
        }
      ]
    },
    {
      "cell_type": "code",
      "source": [
        "import pandas as pd\n",
        "\n",
        "#CSVファイルの読み込み\n",
        "#df:data frame\n",
        "df = pd.read_csv()"
      ],
      "metadata": {
        "id": "jM4A4VNuUMsY"
      },
      "execution_count": null,
      "outputs": []
    }
  ]
}